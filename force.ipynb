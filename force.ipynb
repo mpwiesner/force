{
 "cells": [
  {
   "cell_type": "code",
   "execution_count": 7,
   "metadata": {},
   "outputs": [
    {
     "name": "stdout",
     "output_type": "stream",
     "text": [
      "Length of AD is  0.75  meters\n",
      "F_AD=  2.94  Newtons\n",
      "F_AB=  1.96  Newtons\n",
      "F_AC=  0.98  Newtons\n"
     ]
    }
   ],
   "source": [
    "#!/usr/bin/python\n",
    "import numpy as np\n",
    "\n",
    "#ENTER VARIABLES HERE\n",
    "\n",
    "#ENTER MASS IN KG\n",
    "mass = 0.2\n",
    "#ENTER x-component of AD in meters\n",
    "ADx = -0.5\n",
    "#ENTER y-component of AD in meters\n",
    "ADy = 0.5\n",
    "#ENTER z-component of AD in meters\n",
    "ADz = -0.25\n",
    "dist=np.sqrt((ADx**2)+(ADy**2)+(ADz**2))\n",
    "print (\"Length of AD is \"), dist, \" meters\"\n",
    "\n",
    "cos_x=ADx/dist\n",
    "cos_y=ADy/dist\n",
    "cos_z=ADz/dist\n",
    "\n",
    "A=np.zeros((3,3))\n",
    "B=np.zeros((3,1))\n",
    "\n",
    "A[0,0]=cos_x\n",
    "A[1,0]=cos_y\n",
    "A[2,0]=cos_z\n",
    "\n",
    "A[0,1]=1\n",
    "A[0,2]=0\n",
    "A[1,1]=0\n",
    "\n",
    "A[2,1]=0\n",
    "A[2,2]=1\n",
    "\n",
    "B[0,0]=0\n",
    "B[1,0]=mass*9.80\n",
    "B[2,0]=0\n",
    "\n",
    "x = np.linalg.solve(A, B)\n",
    "\n",
    "print (\"F_AD= \"), x[0,0], \" Newtons\"\n",
    "print (\"F_AB= \"), x[1,0], \" Newtons\"\n",
    "print (\"F_AC= \"), x[2,0], \" Newtons\""
   ]
  }
 ],
 "metadata": {
  "kernelspec": {
   "display_name": "Python 2",
   "language": "python",
   "name": "python2"
  },
  "language_info": {
   "codemirror_mode": {
    "name": "ipython",
    "version": 2
   },
   "file_extension": ".py",
   "mimetype": "text/x-python",
   "name": "python",
   "nbconvert_exporter": "python",
   "pygments_lexer": "ipython2",
   "version": "2.7.13"
  }
 },
 "nbformat": 4,
 "nbformat_minor": 2
}
